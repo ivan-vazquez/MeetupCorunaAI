{
 "cells": [
  {
   "cell_type": "code",
   "execution_count": 1,
   "metadata": {},
   "outputs": [],
   "source": [
    "# Cosas de OSX...\n",
    "import os\n",
    "os.environ['KMP_DUPLICATE_LIB_OK']='True'"
   ]
  },
  {
   "cell_type": "markdown",
   "metadata": {},
   "source": [
    "### Estructura PIMA Indiands Diabetes dataset\n",
    "   1. Number of times pregnant\n",
    "   2. Plasma glucose concentration a 2 hours in an oral glucose tolerance test\n",
    "   3. Diastolic blood pressure (mm Hg)\n",
    "   4. Triceps skin fold thickness (mm)\n",
    "   5. 2-Hour serum insulin (mu U/ml)\n",
    "   6. Body mass index (weight in kg/(height in m)^2)\n",
    "   7. Diabetes pedigree function\n",
    "   8. Age (years)\n",
    "   9. Class variable (0 or 1)"
   ]
  },
  {
   "cell_type": "code",
   "execution_count": 2,
   "metadata": {},
   "outputs": [
    {
     "name": "stderr",
     "output_type": "stream",
     "text": [
      "Using TensorFlow backend.\n"
     ]
    }
   ],
   "source": [
    "import matplotlib.pyplot as plt\n",
    "\n",
    "from keras.models import Sequential\n",
    "from keras.layers import Dense\n",
    "import numpy\n",
    "\n",
    "numpy.random.seed(7)"
   ]
  },
  {
   "cell_type": "code",
   "execution_count": 3,
   "metadata": {},
   "outputs": [],
   "source": [
    "dataset = numpy.loadtxt(\"pima-indians-diabetes.csv\", delimiter=\",\")"
   ]
  },
  {
   "cell_type": "code",
   "execution_count": 4,
   "metadata": {},
   "outputs": [],
   "source": [
    "X = dataset[:,0:8]\n",
    "Y = dataset[:,8]"
   ]
  },
  {
   "cell_type": "code",
   "execution_count": 32,
   "metadata": {},
   "outputs": [],
   "source": [
    "model = Sequential()\n",
    "model.add(Dense(32, input_dim=8, activation='relu'))\n",
    "model.add(Dense(16, activation='relu'))\n",
    "model.add(Dense(1, activation='sigmoid'))"
   ]
  },
  {
   "cell_type": "code",
   "execution_count": 33,
   "metadata": {},
   "outputs": [],
   "source": [
    "model.compile(loss='binary_crossentropy', optimizer='sgd', metrics=['accuracy'])"
   ]
  },
  {
   "cell_type": "code",
   "execution_count": 34,
   "metadata": {},
   "outputs": [
    {
     "name": "stdout",
     "output_type": "stream",
     "text": [
      "Train on 614 samples, validate on 154 samples\n",
      "Epoch 1/150\n",
      "614/614 [==============================] - 1s 1ms/step - loss: 5.6709 - acc: 0.6466 - val_loss: 5.7565 - val_acc: 0.6429\n",
      "Epoch 2/150\n",
      "614/614 [==============================] - 0s 264us/step - loss: 5.5915 - acc: 0.6531 - val_loss: 5.7565 - val_acc: 0.6429\n",
      "Epoch 3/150\n",
      "614/614 [==============================] - 0s 215us/step - loss: 5.5915 - acc: 0.6531 - val_loss: 5.7565 - val_acc: 0.6429\n",
      "Epoch 4/150\n",
      "614/614 [==============================] - 0s 286us/step - loss: 5.5915 - acc: 0.6531 - val_loss: 5.7565 - val_acc: 0.6429\n",
      "Epoch 5/150\n",
      "614/614 [==============================] - 0s 263us/step - loss: 5.5915 - acc: 0.6531 - val_loss: 5.7565 - val_acc: 0.6429\n",
      "Epoch 6/150\n",
      "614/614 [==============================] - 0s 254us/step - loss: 5.5915 - acc: 0.6531 - val_loss: 5.7565 - val_acc: 0.6429\n",
      "Epoch 7/150\n",
      "614/614 [==============================] - 0s 219us/step - loss: 5.5915 - acc: 0.6531 - val_loss: 5.7565 - val_acc: 0.6429\n",
      "Epoch 8/150\n",
      "614/614 [==============================] - 0s 294us/step - loss: 5.5915 - acc: 0.6531 - val_loss: 5.7565 - val_acc: 0.6429\n",
      "Epoch 9/150\n",
      "614/614 [==============================] - 0s 276us/step - loss: 5.5915 - acc: 0.6531 - val_loss: 5.7565 - val_acc: 0.6429\n",
      "Epoch 10/150\n",
      "614/614 [==============================] - 0s 302us/step - loss: 5.5915 - acc: 0.6531 - val_loss: 5.7565 - val_acc: 0.6429\n",
      "Epoch 11/150\n",
      "614/614 [==============================] - 0s 287us/step - loss: 5.5915 - acc: 0.6531 - val_loss: 5.7565 - val_acc: 0.6429\n",
      "Epoch 12/150\n",
      "614/614 [==============================] - 0s 294us/step - loss: 5.5915 - acc: 0.6531 - val_loss: 5.7565 - val_acc: 0.6429\n",
      "Epoch 13/150\n",
      "614/614 [==============================] - 0s 282us/step - loss: 5.5915 - acc: 0.6531 - val_loss: 5.7565 - val_acc: 0.6429\n",
      "Epoch 14/150\n",
      "614/614 [==============================] - 0s 461us/step - loss: 5.5915 - acc: 0.6531 - val_loss: 5.7565 - val_acc: 0.6429\n",
      "Epoch 15/150\n",
      "614/614 [==============================] - 1s 965us/step - loss: 5.5915 - acc: 0.6531 - val_loss: 5.7565 - val_acc: 0.6429\n",
      "Epoch 16/150\n",
      "614/614 [==============================] - 1s 960us/step - loss: 5.5915 - acc: 0.6531 - val_loss: 5.7565 - val_acc: 0.6429\n",
      "Epoch 17/150\n",
      "614/614 [==============================] - 0s 712us/step - loss: 5.5915 - acc: 0.6531 - val_loss: 5.7565 - val_acc: 0.6429\n",
      "Epoch 18/150\n",
      "614/614 [==============================] - 0s 382us/step - loss: 5.5915 - acc: 0.6531 - val_loss: 5.7565 - val_acc: 0.6429\n",
      "Epoch 19/150\n",
      "614/614 [==============================] - 0s 371us/step - loss: 5.5915 - acc: 0.6531 - val_loss: 5.7565 - val_acc: 0.6429\n",
      "Epoch 20/150\n",
      "614/614 [==============================] - 0s 415us/step - loss: 5.5915 - acc: 0.6531 - val_loss: 5.7565 - val_acc: 0.6429\n",
      "Epoch 21/150\n",
      "614/614 [==============================] - 0s 281us/step - loss: 5.5915 - acc: 0.6531 - val_loss: 5.7565 - val_acc: 0.6429\n",
      "Epoch 22/150\n",
      "614/614 [==============================] - 0s 420us/step - loss: 5.5915 - acc: 0.6531 - val_loss: 5.7565 - val_acc: 0.6429\n",
      "Epoch 23/150\n",
      "614/614 [==============================] - 0s 251us/step - loss: 5.5915 - acc: 0.6531 - val_loss: 5.7565 - val_acc: 0.6429\n",
      "Epoch 24/150\n",
      "614/614 [==============================] - 0s 259us/step - loss: 5.5915 - acc: 0.6531 - val_loss: 5.7565 - val_acc: 0.6429\n",
      "Epoch 25/150\n",
      "614/614 [==============================] - 0s 773us/step - loss: 5.5915 - acc: 0.6531 - val_loss: 5.7565 - val_acc: 0.6429\n",
      "Epoch 26/150\n",
      "614/614 [==============================] - 1s 946us/step - loss: 5.5915 - acc: 0.6531 - val_loss: 5.7565 - val_acc: 0.6429\n",
      "Epoch 27/150\n",
      "614/614 [==============================] - 1s 1ms/step - loss: 5.5915 - acc: 0.6531 - val_loss: 5.7565 - val_acc: 0.6429\n",
      "Epoch 28/150\n",
      "614/614 [==============================] - 0s 464us/step - loss: 5.5915 - acc: 0.6531 - val_loss: 5.7565 - val_acc: 0.6429\n",
      "Epoch 29/150\n",
      "614/614 [==============================] - 0s 291us/step - loss: 5.5915 - acc: 0.6531 - val_loss: 5.7565 - val_acc: 0.6429\n",
      "Epoch 30/150\n",
      "614/614 [==============================] - 0s 310us/step - loss: 5.5915 - acc: 0.6531 - val_loss: 5.7565 - val_acc: 0.6429\n",
      "Epoch 31/150\n",
      "614/614 [==============================] - 0s 346us/step - loss: 5.5915 - acc: 0.6531 - val_loss: 5.7565 - val_acc: 0.6429\n",
      "Epoch 32/150\n",
      "614/614 [==============================] - 0s 371us/step - loss: 5.5915 - acc: 0.6531 - val_loss: 5.7565 - val_acc: 0.6429\n",
      "Epoch 33/150\n",
      "614/614 [==============================] - 0s 362us/step - loss: 5.5915 - acc: 0.6531 - val_loss: 5.7565 - val_acc: 0.6429\n",
      "Epoch 34/150\n",
      "614/614 [==============================] - 0s 691us/step - loss: 5.5915 - acc: 0.6531 - val_loss: 5.7565 - val_acc: 0.6429\n",
      "Epoch 35/150\n",
      "614/614 [==============================] - 1s 1ms/step - loss: 5.5915 - acc: 0.6531 - val_loss: 5.7565 - val_acc: 0.6429\n",
      "Epoch 36/150\n",
      "614/614 [==============================] - 0s 307us/step - loss: 5.5915 - acc: 0.6531 - val_loss: 5.7565 - val_acc: 0.6429\n",
      "Epoch 37/150\n",
      "614/614 [==============================] - 0s 264us/step - loss: 5.5915 - acc: 0.6531 - val_loss: 5.7565 - val_acc: 0.6429\n",
      "Epoch 38/150\n",
      "614/614 [==============================] - 0s 222us/step - loss: 5.5915 - acc: 0.6531 - val_loss: 5.7565 - val_acc: 0.6429\n",
      "Epoch 39/150\n",
      "614/614 [==============================] - 0s 272us/step - loss: 5.5915 - acc: 0.6531 - val_loss: 5.7565 - val_acc: 0.6429\n",
      "Epoch 40/150\n",
      "614/614 [==============================] - 0s 290us/step - loss: 5.5915 - acc: 0.6531 - val_loss: 5.7565 - val_acc: 0.6429\n",
      "Epoch 41/150\n",
      "614/614 [==============================] - 0s 336us/step - loss: 5.5915 - acc: 0.6531 - val_loss: 5.7565 - val_acc: 0.6429\n",
      "Epoch 42/150\n",
      "614/614 [==============================] - 0s 555us/step - loss: 5.5915 - acc: 0.6531 - val_loss: 5.7565 - val_acc: 0.6429\n",
      "Epoch 43/150\n",
      "614/614 [==============================] - 0s 784us/step - loss: 5.5915 - acc: 0.6531 - val_loss: 5.7565 - val_acc: 0.6429\n",
      "Epoch 44/150\n",
      "614/614 [==============================] - 0s 724us/step - loss: 5.5915 - acc: 0.6531 - val_loss: 5.7565 - val_acc: 0.6429\n",
      "Epoch 45/150\n",
      "614/614 [==============================] - 0s 588us/step - loss: 5.5915 - acc: 0.6531 - val_loss: 5.7565 - val_acc: 0.6429\n",
      "Epoch 46/150\n",
      "614/614 [==============================] - 0s 419us/step - loss: 5.5915 - acc: 0.6531 - val_loss: 5.7565 - val_acc: 0.6429\n",
      "Epoch 47/150\n",
      "614/614 [==============================] - 0s 370us/step - loss: 5.5915 - acc: 0.6531 - val_loss: 5.7565 - val_acc: 0.6429\n",
      "Epoch 48/150\n",
      "614/614 [==============================] - 0s 680us/step - loss: 5.5915 - acc: 0.6531 - val_loss: 5.7565 - val_acc: 0.6429\n",
      "Epoch 49/150\n",
      "614/614 [==============================] - 0s 648us/step - loss: 5.5915 - acc: 0.6531 - val_loss: 5.7565 - val_acc: 0.6429\n",
      "Epoch 50/150\n",
      "614/614 [==============================] - 1s 991us/step - loss: 5.5915 - acc: 0.6531 - val_loss: 5.7565 - val_acc: 0.6429\n",
      "Epoch 51/150\n",
      "614/614 [==============================] - 1s 993us/step - loss: 5.5915 - acc: 0.6531 - val_loss: 5.7565 - val_acc: 0.6429\n",
      "Epoch 52/150\n",
      "614/614 [==============================] - 0s 479us/step - loss: 5.5915 - acc: 0.6531 - val_loss: 5.7565 - val_acc: 0.6429\n",
      "Epoch 53/150\n",
      "614/614 [==============================] - 0s 367us/step - loss: 5.5915 - acc: 0.6531 - val_loss: 5.7565 - val_acc: 0.6429\n",
      "Epoch 54/150\n",
      "614/614 [==============================] - 0s 348us/step - loss: 5.5915 - acc: 0.6531 - val_loss: 5.7565 - val_acc: 0.6429\n",
      "Epoch 55/150\n",
      "614/614 [==============================] - 0s 369us/step - loss: 5.5915 - acc: 0.6531 - val_loss: 5.7565 - val_acc: 0.6429\n",
      "Epoch 56/150\n",
      "614/614 [==============================] - 0s 373us/step - loss: 5.5915 - acc: 0.6531 - val_loss: 5.7565 - val_acc: 0.6429\n",
      "Epoch 57/150\n",
      "614/614 [==============================] - 0s 310us/step - loss: 5.5915 - acc: 0.6531 - val_loss: 5.7565 - val_acc: 0.6429\n",
      "Epoch 58/150\n",
      "614/614 [==============================] - 0s 374us/step - loss: 5.5915 - acc: 0.6531 - val_loss: 5.7565 - val_acc: 0.6429\n",
      "Epoch 59/150\n",
      "614/614 [==============================] - 0s 350us/step - loss: 5.5915 - acc: 0.6531 - val_loss: 5.7565 - val_acc: 0.6429\n",
      "Epoch 60/150\n",
      "614/614 [==============================] - 0s 336us/step - loss: 5.5915 - acc: 0.6531 - val_loss: 5.7565 - val_acc: 0.6429\n",
      "Epoch 61/150\n"
     ]
    },
    {
     "name": "stdout",
     "output_type": "stream",
     "text": [
      "614/614 [==============================] - 0s 266us/step - loss: 5.5915 - acc: 0.6531 - val_loss: 5.7565 - val_acc: 0.6429\n",
      "Epoch 62/150\n",
      "614/614 [==============================] - 0s 238us/step - loss: 5.5915 - acc: 0.6531 - val_loss: 5.7565 - val_acc: 0.6429\n",
      "Epoch 63/150\n",
      "614/614 [==============================] - 0s 265us/step - loss: 5.5915 - acc: 0.6531 - val_loss: 5.7565 - val_acc: 0.6429\n",
      "Epoch 64/150\n",
      "614/614 [==============================] - 0s 205us/step - loss: 5.5915 - acc: 0.6531 - val_loss: 5.7565 - val_acc: 0.6429\n",
      "Epoch 65/150\n",
      "614/614 [==============================] - 0s 212us/step - loss: 5.5915 - acc: 0.6531 - val_loss: 5.7565 - val_acc: 0.6429\n",
      "Epoch 66/150\n",
      "614/614 [==============================] - 0s 223us/step - loss: 5.5915 - acc: 0.6531 - val_loss: 5.7565 - val_acc: 0.6429\n",
      "Epoch 67/150\n",
      "614/614 [==============================] - 0s 204us/step - loss: 5.5915 - acc: 0.6531 - val_loss: 5.7565 - val_acc: 0.6429\n",
      "Epoch 68/150\n",
      "614/614 [==============================] - 0s 225us/step - loss: 5.5915 - acc: 0.6531 - val_loss: 5.7565 - val_acc: 0.6429\n",
      "Epoch 69/150\n",
      "614/614 [==============================] - 0s 212us/step - loss: 5.5915 - acc: 0.6531 - val_loss: 5.7565 - val_acc: 0.6429\n",
      "Epoch 70/150\n",
      "614/614 [==============================] - 0s 217us/step - loss: 5.5915 - acc: 0.6531 - val_loss: 5.7565 - val_acc: 0.6429\n",
      "Epoch 71/150\n",
      "614/614 [==============================] - 0s 221us/step - loss: 5.5915 - acc: 0.6531 - val_loss: 5.7565 - val_acc: 0.6429\n",
      "Epoch 72/150\n",
      "614/614 [==============================] - 0s 210us/step - loss: 5.5915 - acc: 0.6531 - val_loss: 5.7565 - val_acc: 0.6429\n",
      "Epoch 73/150\n",
      "614/614 [==============================] - 0s 214us/step - loss: 5.5915 - acc: 0.6531 - val_loss: 5.7565 - val_acc: 0.6429\n",
      "Epoch 74/150\n",
      "614/614 [==============================] - 0s 251us/step - loss: 5.5915 - acc: 0.6531 - val_loss: 5.7565 - val_acc: 0.6429\n",
      "Epoch 75/150\n",
      "614/614 [==============================] - 0s 193us/step - loss: 5.5915 - acc: 0.6531 - val_loss: 5.7565 - val_acc: 0.6429\n",
      "Epoch 76/150\n",
      "614/614 [==============================] - 0s 223us/step - loss: 5.5915 - acc: 0.6531 - val_loss: 5.7565 - val_acc: 0.6429\n",
      "Epoch 77/150\n",
      "614/614 [==============================] - 0s 199us/step - loss: 5.5915 - acc: 0.6531 - val_loss: 5.7565 - val_acc: 0.6429\n",
      "Epoch 78/150\n",
      "614/614 [==============================] - 0s 218us/step - loss: 5.5915 - acc: 0.6531 - val_loss: 5.7565 - val_acc: 0.6429\n",
      "Epoch 79/150\n",
      "614/614 [==============================] - 0s 262us/step - loss: 5.5915 - acc: 0.6531 - val_loss: 5.7565 - val_acc: 0.6429\n",
      "Epoch 80/150\n",
      "614/614 [==============================] - 0s 196us/step - loss: 5.5915 - acc: 0.6531 - val_loss: 5.7565 - val_acc: 0.6429\n",
      "Epoch 81/150\n",
      "614/614 [==============================] - 0s 539us/step - loss: 5.5915 - acc: 0.6531 - val_loss: 5.7565 - val_acc: 0.6429\n",
      "Epoch 82/150\n",
      "614/614 [==============================] - 1s 942us/step - loss: 5.5915 - acc: 0.6531 - val_loss: 5.7565 - val_acc: 0.6429\n",
      "Epoch 83/150\n",
      "614/614 [==============================] - 1s 1ms/step - loss: 5.5915 - acc: 0.6531 - val_loss: 5.7565 - val_acc: 0.6429\n",
      "Epoch 84/150\n",
      "614/614 [==============================] - 0s 757us/step - loss: 5.5915 - acc: 0.6531 - val_loss: 5.7565 - val_acc: 0.6429\n",
      "Epoch 85/150\n",
      "614/614 [==============================] - 0s 776us/step - loss: 5.5915 - acc: 0.6531 - val_loss: 5.7565 - val_acc: 0.6429\n",
      "Epoch 86/150\n",
      "614/614 [==============================] - 0s 402us/step - loss: 5.5915 - acc: 0.6531 - val_loss: 5.7565 - val_acc: 0.6429\n",
      "Epoch 87/150\n",
      "614/614 [==============================] - 0s 389us/step - loss: 5.5915 - acc: 0.6531 - val_loss: 5.7565 - val_acc: 0.6429\n",
      "Epoch 88/150\n",
      "614/614 [==============================] - 0s 419us/step - loss: 5.5915 - acc: 0.6531 - val_loss: 5.7565 - val_acc: 0.6429\n",
      "Epoch 89/150\n",
      "614/614 [==============================] - 0s 444us/step - loss: 5.5915 - acc: 0.6531 - val_loss: 5.7565 - val_acc: 0.6429\n",
      "Epoch 90/150\n",
      "614/614 [==============================] - 0s 521us/step - loss: 5.5915 - acc: 0.6531 - val_loss: 5.7565 - val_acc: 0.6429\n",
      "Epoch 91/150\n",
      "614/614 [==============================] - 0s 496us/step - loss: 5.5915 - acc: 0.6531 - val_loss: 5.7565 - val_acc: 0.6429\n",
      "Epoch 92/150\n",
      "614/614 [==============================] - 0s 388us/step - loss: 5.5915 - acc: 0.6531 - val_loss: 5.7565 - val_acc: 0.6429\n",
      "Epoch 93/150\n",
      "614/614 [==============================] - 0s 269us/step - loss: 5.5915 - acc: 0.6531 - val_loss: 5.7565 - val_acc: 0.6429\n",
      "Epoch 94/150\n",
      "614/614 [==============================] - 0s 390us/step - loss: 5.5915 - acc: 0.6531 - val_loss: 5.7565 - val_acc: 0.6429\n",
      "Epoch 95/150\n",
      "614/614 [==============================] - 0s 326us/step - loss: 5.5915 - acc: 0.6531 - val_loss: 5.7565 - val_acc: 0.6429\n",
      "Epoch 96/150\n",
      "614/614 [==============================] - 0s 288us/step - loss: 5.5915 - acc: 0.6531 - val_loss: 5.7565 - val_acc: 0.6429\n",
      "Epoch 97/150\n",
      "614/614 [==============================] - 0s 446us/step - loss: 5.5915 - acc: 0.6531 - val_loss: 5.7565 - val_acc: 0.6429\n",
      "Epoch 98/150\n",
      "614/614 [==============================] - 0s 323us/step - loss: 5.5915 - acc: 0.6531 - val_loss: 5.7565 - val_acc: 0.6429\n",
      "Epoch 99/150\n",
      "614/614 [==============================] - 0s 416us/step - loss: 5.5915 - acc: 0.6531 - val_loss: 5.7565 - val_acc: 0.6429\n",
      "Epoch 100/150\n",
      "614/614 [==============================] - 0s 413us/step - loss: 5.5915 - acc: 0.6531 - val_loss: 5.7565 - val_acc: 0.6429\n",
      "Epoch 101/150\n",
      "614/614 [==============================] - 0s 340us/step - loss: 5.5915 - acc: 0.6531 - val_loss: 5.7565 - val_acc: 0.6429\n",
      "Epoch 102/150\n",
      "614/614 [==============================] - 0s 333us/step - loss: 5.5915 - acc: 0.6531 - val_loss: 5.7565 - val_acc: 0.6429\n",
      "Epoch 103/150\n",
      "614/614 [==============================] - 0s 335us/step - loss: 5.5915 - acc: 0.6531 - val_loss: 5.7565 - val_acc: 0.6429\n",
      "Epoch 104/150\n",
      "614/614 [==============================] - 0s 342us/step - loss: 5.5915 - acc: 0.6531 - val_loss: 5.7565 - val_acc: 0.6429\n",
      "Epoch 105/150\n",
      "614/614 [==============================] - 0s 285us/step - loss: 5.5915 - acc: 0.6531 - val_loss: 5.7565 - val_acc: 0.6429\n",
      "Epoch 106/150\n",
      "614/614 [==============================] - 0s 306us/step - loss: 5.5915 - acc: 0.6531 - val_loss: 5.7565 - val_acc: 0.6429\n",
      "Epoch 107/150\n",
      "614/614 [==============================] - 0s 309us/step - loss: 5.5915 - acc: 0.6531 - val_loss: 5.7565 - val_acc: 0.6429\n",
      "Epoch 108/150\n",
      "614/614 [==============================] - 0s 377us/step - loss: 5.5915 - acc: 0.6531 - val_loss: 5.7565 - val_acc: 0.6429\n",
      "Epoch 109/150\n",
      "614/614 [==============================] - 0s 297us/step - loss: 5.5915 - acc: 0.6531 - val_loss: 5.7565 - val_acc: 0.6429\n",
      "Epoch 110/150\n",
      "614/614 [==============================] - 0s 462us/step - loss: 5.5915 - acc: 0.6531 - val_loss: 5.7565 - val_acc: 0.6429\n",
      "Epoch 111/150\n",
      "614/614 [==============================] - 0s 321us/step - loss: 5.5915 - acc: 0.6531 - val_loss: 5.7565 - val_acc: 0.6429\n",
      "Epoch 112/150\n",
      "614/614 [==============================] - 0s 393us/step - loss: 5.5915 - acc: 0.6531 - val_loss: 5.7565 - val_acc: 0.6429\n",
      "Epoch 113/150\n",
      "614/614 [==============================] - 0s 324us/step - loss: 5.5915 - acc: 0.6531 - val_loss: 5.7565 - val_acc: 0.6429\n",
      "Epoch 114/150\n",
      "614/614 [==============================] - 0s 540us/step - loss: 5.5915 - acc: 0.6531 - val_loss: 5.7565 - val_acc: 0.6429\n",
      "Epoch 115/150\n",
      "614/614 [==============================] - 0s 585us/step - loss: 5.5915 - acc: 0.6531 - val_loss: 5.7565 - val_acc: 0.6429\n",
      "Epoch 116/150\n",
      "614/614 [==============================] - 0s 810us/step - loss: 5.5915 - acc: 0.6531 - val_loss: 5.7565 - val_acc: 0.6429\n",
      "Epoch 117/150\n",
      "614/614 [==============================] - 0s 738us/step - loss: 5.5915 - acc: 0.6531 - val_loss: 5.7565 - val_acc: 0.6429\n",
      "Epoch 118/150\n",
      "614/614 [==============================] - 0s 584us/step - loss: 5.5915 - acc: 0.6531 - val_loss: 5.7565 - val_acc: 0.6429\n",
      "Epoch 119/150\n",
      "614/614 [==============================] - 0s 384us/step - loss: 5.5915 - acc: 0.6531 - val_loss: 5.7565 - val_acc: 0.6429\n",
      "Epoch 120/150\n",
      "614/614 [==============================] - 0s 233us/step - loss: 5.5915 - acc: 0.6531 - val_loss: 5.7565 - val_acc: 0.6429\n",
      "Epoch 121/150\n",
      "614/614 [==============================] - 0s 195us/step - loss: 5.5915 - acc: 0.6531 - val_loss: 5.7565 - val_acc: 0.6429\n",
      "Epoch 122/150\n",
      "614/614 [==============================] - 0s 203us/step - loss: 5.5915 - acc: 0.6531 - val_loss: 5.7565 - val_acc: 0.6429\n",
      "Epoch 123/150\n",
      "614/614 [==============================] - 0s 180us/step - loss: 5.5915 - acc: 0.6531 - val_loss: 5.7565 - val_acc: 0.6429\n",
      "Epoch 124/150\n",
      "614/614 [==============================] - 0s 177us/step - loss: 5.5915 - acc: 0.6531 - val_loss: 5.7565 - val_acc: 0.6429\n",
      "Epoch 125/150\n",
      "614/614 [==============================] - 0s 151us/step - loss: 5.5915 - acc: 0.6531 - val_loss: 5.7565 - val_acc: 0.6429\n",
      "Epoch 126/150\n",
      "614/614 [==============================] - 0s 152us/step - loss: 5.5915 - acc: 0.6531 - val_loss: 5.7565 - val_acc: 0.6429\n",
      "Epoch 127/150\n",
      "614/614 [==============================] - 0s 163us/step - loss: 5.5915 - acc: 0.6531 - val_loss: 5.7565 - val_acc: 0.6429\n",
      "Epoch 128/150\n",
      "614/614 [==============================] - 0s 152us/step - loss: 5.5915 - acc: 0.6531 - val_loss: 5.7565 - val_acc: 0.6429\n",
      "Epoch 129/150\n",
      "614/614 [==============================] - 0s 147us/step - loss: 5.5915 - acc: 0.6531 - val_loss: 5.7565 - val_acc: 0.6429\n",
      "Epoch 130/150\n",
      "614/614 [==============================] - 0s 145us/step - loss: 5.5915 - acc: 0.6531 - val_loss: 5.7565 - val_acc: 0.6429\n",
      "Epoch 131/150\n",
      "614/614 [==============================] - 0s 164us/step - loss: 5.5915 - acc: 0.6531 - val_loss: 5.7565 - val_acc: 0.6429\n",
      "Epoch 132/150\n",
      "614/614 [==============================] - 0s 149us/step - loss: 5.5915 - acc: 0.6531 - val_loss: 5.7565 - val_acc: 0.6429\n",
      "Epoch 133/150\n",
      "614/614 [==============================] - 0s 147us/step - loss: 5.5915 - acc: 0.6531 - val_loss: 5.7565 - val_acc: 0.6429\n",
      "Epoch 134/150\n",
      "614/614 [==============================] - 0s 156us/step - loss: 5.5915 - acc: 0.6531 - val_loss: 5.7565 - val_acc: 0.6429\n",
      "Epoch 135/150\n",
      "614/614 [==============================] - 0s 167us/step - loss: 5.5915 - acc: 0.6531 - val_loss: 5.7565 - val_acc: 0.6429\n",
      "Epoch 136/150\n",
      "614/614 [==============================] - 0s 155us/step - loss: 5.5915 - acc: 0.6531 - val_loss: 5.7565 - val_acc: 0.6429\n",
      "Epoch 137/150\n",
      "614/614 [==============================] - 0s 169us/step - loss: 5.5915 - acc: 0.6531 - val_loss: 5.7565 - val_acc: 0.6429\n",
      "Epoch 138/150\n",
      "614/614 [==============================] - 0s 161us/step - loss: 5.5915 - acc: 0.6531 - val_loss: 5.7565 - val_acc: 0.6429\n",
      "Epoch 139/150\n",
      "614/614 [==============================] - 0s 149us/step - loss: 5.5915 - acc: 0.6531 - val_loss: 5.7565 - val_acc: 0.6429\n",
      "Epoch 140/150\n",
      "614/614 [==============================] - 0s 155us/step - loss: 5.5915 - acc: 0.6531 - val_loss: 5.7565 - val_acc: 0.6429\n",
      "Epoch 141/150\n",
      "614/614 [==============================] - 0s 170us/step - loss: 5.5915 - acc: 0.6531 - val_loss: 5.7565 - val_acc: 0.6429\n",
      "Epoch 142/150\n",
      "614/614 [==============================] - 0s 170us/step - loss: 5.5915 - acc: 0.6531 - val_loss: 5.7565 - val_acc: 0.6429\n",
      "Epoch 143/150\n",
      "614/614 [==============================] - 0s 161us/step - loss: 5.5915 - acc: 0.6531 - val_loss: 5.7565 - val_acc: 0.6429\n",
      "Epoch 144/150\n",
      "614/614 [==============================] - 0s 156us/step - loss: 5.5915 - acc: 0.6531 - val_loss: 5.7565 - val_acc: 0.6429\n",
      "Epoch 145/150\n",
      "614/614 [==============================] - 0s 161us/step - loss: 5.5915 - acc: 0.6531 - val_loss: 5.7565 - val_acc: 0.6429\n",
      "Epoch 146/150\n",
      "614/614 [==============================] - 0s 146us/step - loss: 5.5915 - acc: 0.6531 - val_loss: 5.7565 - val_acc: 0.6429\n",
      "Epoch 147/150\n",
      "614/614 [==============================] - 0s 163us/step - loss: 5.5915 - acc: 0.6531 - val_loss: 5.7565 - val_acc: 0.6429\n",
      "Epoch 148/150\n",
      "614/614 [==============================] - 0s 309us/step - loss: 5.5915 - acc: 0.6531 - val_loss: 5.7565 - val_acc: 0.6429\n",
      "Epoch 149/150\n",
      "614/614 [==============================] - 0s 613us/step - loss: 5.5915 - acc: 0.6531 - val_loss: 5.7565 - val_acc: 0.6429\n",
      "Epoch 150/150\n",
      "614/614 [==============================] - 0s 549us/step - loss: 5.5915 - acc: 0.6531 - val_loss: 5.7565 - val_acc: 0.6429\n"
     ]
    }
   ],
   "source": [
    "history = model.fit(X, Y, epochs=150, batch_size=10, validation_split=0.2)"
   ]
  },
  {
   "cell_type": "code",
   "execution_count": 29,
   "metadata": {},
   "outputs": [
    {
     "name": "stdout",
     "output_type": "stream",
     "text": [
      "768/768 [==============================] - 0s 39us/step\n",
      "\n",
      "acc: 78.12%\n"
     ]
    }
   ],
   "source": [
    "scores = model.evaluate(X, Y)\n",
    "print(\"\\n%s: %.2f%%\" % (model.metrics_names[1], scores[1]*100))"
   ]
  },
  {
   "cell_type": "markdown",
   "metadata": {},
   "source": [
    "### Recursos para Keras\n",
    "\n",
    "https://keras.io/losses/\n",
    "https://keras.io/metrics/"
   ]
  },
  {
   "cell_type": "code",
   "execution_count": 30,
   "metadata": {},
   "outputs": [
    {
     "name": "stdout",
     "output_type": "stream",
     "text": [
      "_________________________________________________________________\n",
      "Layer (type)                 Output Shape              Param #   \n",
      "=================================================================\n",
      "dense_7 (Dense)              (None, 32)                288       \n",
      "_________________________________________________________________\n",
      "dense_8 (Dense)              (None, 16)                528       \n",
      "_________________________________________________________________\n",
      "dense_9 (Dense)              (None, 1)                 17        \n",
      "=================================================================\n",
      "Total params: 833\n",
      "Trainable params: 833\n",
      "Non-trainable params: 0\n",
      "_________________________________________________________________\n"
     ]
    }
   ],
   "source": [
    "model.summary()"
   ]
  },
  {
   "cell_type": "code",
   "execution_count": 21,
   "metadata": {},
   "outputs": [
    {
     "data": {
      "text/plain": [
       "dict_keys(['val_loss', 'val_acc', 'loss', 'acc'])"
      ]
     },
     "execution_count": 21,
     "metadata": {},
     "output_type": "execute_result"
    }
   ],
   "source": [
    "history.history.keys()"
   ]
  },
  {
   "cell_type": "code",
   "execution_count": 22,
   "metadata": {},
   "outputs": [],
   "source": [
    "%matplotlib inline"
   ]
  },
  {
   "cell_type": "code",
   "execution_count": 31,
   "metadata": {},
   "outputs": [
    {
     "data": {
      "image/png": "[encoded data removed]",
      "text/plain": [
       "<Figure size 432x288 with 1 Axes>"
      ]
     },
     "metadata": {
      "needs_background": "light"
     },
     "output_type": "display_data"
    },
    {
     "data": {
      "image/png": "[encoded data removed]",
      "text/plain": [
       "<Figure size 432x288 with 1 Axes>"
      ]
     },
     "metadata": {
      "needs_background": "light"
     },
     "output_type": "display_data"
    }
   ],
   "source": [
    "plt.plot(history.history['acc'])\n",
    "plt.plot(history.history['val_acc'])\n",
    "plt.title('model accuracy')\n",
    "plt.ylabel('accuracy')\n",
    "plt.xlabel('epoch')\n",
    "plt.legend(['train','test'], loc='lower right')\n",
    "plt.show()\n",
    "\n",
    "plt.plot(history.history['loss'])\n",
    "plt.plot(history.history['val_loss'])\n",
    "plt.title('model loss')\n",
    "plt.ylabel('loss')\n",
    "plt.xlabel('epoch')\n",
    "plt.legend(['train','test'], loc='lower right')\n",
    "plt.show()"
   ]
  },
  {
   "cell_type": "markdown",
   "metadata": {},
   "source": [
    "# Extra"
   ]
  },
  {
   "cell_type": "code",
   "execution_count": 13,
   "metadata": {},
   "outputs": [],
   "source": [
    "import pandas as pd"
   ]
  },
  {
   "cell_type": "code",
   "execution_count": 14,
   "metadata": {},
   "outputs": [],
   "source": [
    "df = pd.read_csv(\"pima-indians-diabetes.csv\")"
   ]
  },
  {
   "cell_type": "code",
   "execution_count": 1,
   "metadata": {},
   "outputs": [
    {
     "ename": "NameError",
     "evalue": "name 'df' is not defined",
     "output_type": "error",
     "traceback": [
      "\u001b[0;31m---------------------------------------------------------------------------\u001b[0m",
      "\u001b[0;31mNameError\u001b[0m                                 Traceback (most recent call last)",
      "\u001b[0;32m<ipython-input-1-c42a15b2c7cf>\u001b[0m in \u001b[0;36m<module>\u001b[0;34m\u001b[0m\n\u001b[0;32m----> 1\u001b[0;31m \u001b[0mdf\u001b[0m\u001b[0;34m.\u001b[0m\u001b[0mhead\u001b[0m\u001b[0;34m(\u001b[0m\u001b[0;34m)\u001b[0m\u001b[0;34m\u001b[0m\u001b[0;34m\u001b[0m\u001b[0m\n\u001b[0m",
      "\u001b[0;31mNameError\u001b[0m: name 'df' is not defined"
     ]
    }
   ],
   "source": [
    "df.head()"
   ]
  },
  {
   "cell_type": "markdown",
   "metadata": {},
   "source": [
    "<img src=\"https://i.stack.imgur.com/uDgke.gif\" width=\"100%\">"
   ]
  }
 ],
 "metadata": {
  "kernelspec": {
   "display_name": "Python 3",
   "language": "python",
   "name": "python3"
  },
  "language_info": {
   "codemirror_mode": {
    "name": "ipython",
    "version": 3
   },
   "file_extension": ".py",
   "mimetype": "text/x-python",
   "name": "python",
   "nbconvert_exporter": "python",
   "pygments_lexer": "ipython3",
   "version": "3.6.8"
  }
 },
 "nbformat": 4,
 "nbformat_minor": 2
}
