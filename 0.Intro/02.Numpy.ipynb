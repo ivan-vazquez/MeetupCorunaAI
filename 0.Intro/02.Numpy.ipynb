{
 "cells": [
  {
   "cell_type": "markdown",
   "metadata": {
    "colab_type": "text",
    "id": "bOChJSNXtC9g"
   },
   "source": [
    "# NumPy"
   ]
  },
  {
   "cell_type": "code",
   "execution_count": null,
   "metadata": {
    "colab": {},
    "colab_type": "code",
    "id": "0-dXQiLlTIgz"
   },
   "outputs": [],
   "source": [
    "import numpy as np"
   ]
  },
  {
   "cell_type": "markdown",
   "metadata": {},
   "source": [
    "Cuando estamos trabajando con cierta incertidumbre o introduciendo ruido en datos, es importante poder reproducir un resultado. Para eso podemo fijar una semilla que asegurara el orden de los valores generados."
   ]
  },
  {
   "cell_type": "code",
   "execution_count": null,
   "metadata": {
    "colab": {},
    "colab_type": "code",
    "id": "bhaOPJV7WA0m"
   },
   "outputs": [],
   "source": [
    "np.random.seed(seed=1234)"
   ]
  },
  {
   "cell_type": "markdown",
   "metadata": {},
   "source": [
    "Numpy puede tratar un único elemento como un entero como unidad más atómica."
   ]
  },
  {
   "cell_type": "code",
   "execution_count": null,
   "metadata": {
    "colab": {
     "base_uri": "https://localhost:8080/",
     "height": 102
    },
    "colab_type": "code",
    "id": "23tSlin9aWZ8",
    "outputId": "4df1dbc0-77a1-4776-87d2-326b0bb0f79c"
   },
   "outputs": [],
   "source": [
    "x = np.array(6)\n",
    "print (\"x: \", x)\n",
    "print(\"x ndim: \", x.ndim)\n",
    "print(\"x shape:\", x.shape)\n",
    "print(\"x size: \", x.size)\n",
    "print (\"x dtype: \", x.dtype)"
   ]
  },
  {
   "cell_type": "code",
   "execution_count": null,
   "metadata": {
    "colab": {
     "base_uri": "https://localhost:8080/",
     "height": 102
    },
    "colab_type": "code",
    "id": "ugIZprdIabFF",
    "outputId": "485b9e5e-176a-4ac3-b5ac-71a951470bf1"
   },
   "outputs": [],
   "source": [
    "# 1D\n",
    "x = np.array([1.3 , 2.2 , 1.7])\n",
    "print (\"x: \", x)\n",
    "print(\"x ndim: \", x.ndim)\n",
    "print(\"x shape:\", x.shape)\n",
    "print(\"x size: \", x.size)\n",
    "print (\"x dtype: \", x.dtype)"
   ]
  },
  {
   "cell_type": "code",
   "execution_count": null,
   "metadata": {
    "colab": {
     "base_uri": "https://localhost:8080/",
     "height": 153
    },
    "colab_type": "code",
    "id": "SQI-T_4MbE9J",
    "outputId": "4eede496-01c0-4f83-d0d9-ffe073de8f9f"
   },
   "outputs": [],
   "source": [
    "# 3D\n",
    "x = np.array([[[1,2,3], [4,5,6], [7,8,9]]])\n",
    "print (\"x:\\n\", x)\n",
    "print(\"x ndim: \", x.ndim)\n",
    "print(\"x shape:\", x.shape)\n",
    "print(\"x size: \", x.size)\n",
    "print (\"x dtype: \", x.dtype)"
   ]
  },
  {
   "cell_type": "markdown",
   "metadata": {},
   "source": [
    "Numpy es bastante potente para trabanar con matrices. Muchas de las operaciones ya de la api están enficadas al trabajo con este tipo de estructuras de datos."
   ]
  },
  {
   "cell_type": "code",
   "execution_count": null,
   "metadata": {
    "colab": {
     "base_uri": "https://localhost:8080/",
     "height": 221
    },
    "colab_type": "code",
    "id": "z2Qf8EKZln9j",
    "outputId": "45b92bcd-42a4-457b-ae34-494a1f214ffe"
   },
   "outputs": [],
   "source": [
    "print (\"np.zeros((2,2)):\\n\", np.zeros((2,2)))\n",
    "print (\"np.ones((2,2)):\\n\", np.ones((2,2)))\n",
    "print (\"np.eye((2)):\\n\", np.eye((2)))\n",
    "print (\"np.random.random((2,2)):\\n\", np.random.random((2,2)))"
   ]
  },
  {
   "cell_type": "markdown",
   "metadata": {
    "colab_type": "text",
    "id": "qVD-MCiCdcV9"
   },
   "source": [
    "# Indexación y acceso a datos"
   ]
  },
  {
   "cell_type": "code",
   "execution_count": null,
   "metadata": {
    "colab": {
     "base_uri": "https://localhost:8080/",
     "height": 51
    },
    "colab_type": "code",
    "id": "vyt36kFOcVDX",
    "outputId": "d65f99dd-97ba-4df5-afa1-fc4305c0dc69"
   },
   "outputs": [],
   "source": [
    "x = np.array([1, 2, 3])\n",
    "print (\"x[0]: \", x[0])\n",
    "x[0] = 0\n",
    "print (\"x: \", x)"
   ]
  },
  {
   "cell_type": "code",
   "execution_count": null,
   "metadata": {
    "colab": {
     "base_uri": "https://localhost:8080/",
     "height": 170
    },
    "colab_type": "code",
    "id": "qxHww0didni6",
    "outputId": "0cccf1f5-3372-4f75-baf9-095b546e9ced"
   },
   "outputs": [],
   "source": [
    "x = np.array([[1,2,3,4], [5,6,7,8], [9,10,11,12]])\n",
    "print (x)\n",
    "print (\"x column 1: \", x[:, 1]) \n",
    "print (\"x row 0: \", x[0, :]) \n",
    "print (\"x rows 0,1,2 & cols 1,2: \\n\", x[:3, 1:3]) "
   ]
  },
  {
   "cell_type": "code",
   "execution_count": null,
   "metadata": {
    "colab": {
     "base_uri": "https://localhost:8080/",
     "height": 119
    },
    "colab_type": "code",
    "id": "A52pzB9idyDE",
    "outputId": "c9cd9a42-8cbb-4459-b878-8969aaec1e95"
   },
   "outputs": [],
   "source": [
    "print (x)\n",
    "rows_to_get = np.arange(len(x))\n",
    "print (\"rows_to_get: \", rows_to_get)\n",
    "cols_to_get = np.array([0, 2, 1])\n",
    "print (\"cols_to_get: \", cols_to_get)\n",
    "print (\"indexed values: \", x[rows_to_get, cols_to_get])"
   ]
  },
  {
   "cell_type": "code",
   "execution_count": null,
   "metadata": {
    "colab": {
     "base_uri": "https://localhost:8080/",
     "height": 187
    },
    "colab_type": "code",
    "id": "_R7O5WsVfDij",
    "outputId": "ab346ca7-5959-4bd2-cf02-9d2f9b253e72"
   },
   "outputs": [],
   "source": [
    "x = np.array([[1,2], [3, 4], [5, 6]])\n",
    "print (\"x:\\n\", x)\n",
    "print (\"x > 2:\\n\", x > 2)\n",
    "print (\"x[x > 2]:\\n\", x[x > 2])"
   ]
  },
  {
   "cell_type": "markdown",
   "metadata": {
    "colab_type": "text",
    "id": "77RCjrQ8gvYW"
   },
   "source": [
    "# Operaciones API"
   ]
  },
  {
   "cell_type": "code",
   "execution_count": null,
   "metadata": {
    "colab": {
     "base_uri": "https://localhost:8080/",
     "height": 170
    },
    "colab_type": "code",
    "id": "1UJVcNCLfFrV",
    "outputId": "4284fa79-10e7-428a-f30e-7a59a16cf510"
   },
   "outputs": [],
   "source": [
    "x = np.array([[1,2], [3,4]], dtype=np.float64)\n",
    "y = np.array([[1,2], [3,4]], dtype=np.float64)\n",
    "print (\"x + y:\\n\", np.add(x, y)) \n",
    "print (\"x - y:\\n\", np.subtract(x, y))\n",
    "print (\"x * y:\\n\", np.multiply(x, y)) "
   ]
  },
  {
   "cell_type": "markdown",
   "metadata": {
    "colab_type": "text",
    "id": "1BV0nSIliMC6"
   },
   "source": [
    "<img src=\"./matrix.png\" width=400>\n"
   ]
  },
  {
   "cell_type": "code",
   "execution_count": null,
   "metadata": {
    "colab": {
     "base_uri": "https://localhost:8080/",
     "height": 51
    },
    "colab_type": "code",
    "id": "XyZVF6gXhTWd",
    "outputId": "8cbc328a-b5f3-416e-cf6f-a140aa208398"
   },
   "outputs": [],
   "source": [
    "a = np.array([[1,2,3], [4,5,6]], dtype=np.float64)\n",
    "b = np.array([[7,8], [9,10], [11, 12]], dtype=np.float64)\n",
    "print (a.dot(b))"
   ]
  },
  {
   "cell_type": "code",
   "execution_count": null,
   "metadata": {
    "colab": {
     "base_uri": "https://localhost:8080/",
     "height": 102
    },
    "colab_type": "code",
    "id": "7pB-H-7phsku",
    "outputId": "96a21872-164a-4b47-cd35-bf031a7421d3"
   },
   "outputs": [],
   "source": [
    "x = np.array([[1,2],[3,4]])\n",
    "print (x)\n",
    "print (\"sum all: \", np.sum(x)) \n",
    "print (\"sum by col: \", np.sum(x, axis=0)) \n",
    "print (\"sum by row: \", np.sum(x, axis=1))"
   ]
  },
  {
   "cell_type": "code",
   "execution_count": null,
   "metadata": {
    "colab": {
     "base_uri": "https://localhost:8080/",
     "height": 119
    },
    "colab_type": "code",
    "id": "pLDG49LrijgA",
    "outputId": "9fa3a3e1-6a33-4052-baea-3dd91649f193"
   },
   "outputs": [],
   "source": [
    "x.T"
   ]
  },
  {
   "cell_type": "markdown",
   "metadata": {
    "colab_type": "text",
    "id": "KdPKVKtwkWnw"
   },
   "source": [
    "# Advanced"
   ]
  },
  {
   "cell_type": "code",
   "execution_count": null,
   "metadata": {
    "colab": {
     "base_uri": "https://localhost:8080/",
     "height": 119
    },
    "colab_type": "code",
    "id": "U_j2fCcjkEyo",
    "outputId": "7df2d80f-7e31-4c01-e8e7-81c6986f6bd7"
   },
   "outputs": [],
   "source": [
    "# Tile\n",
    "x = np.array([[1,2], [3,4]])\n",
    "y = np.array([5, 6])\n",
    "addent = np.tile(y, (len(x), 1))\n",
    "print (\"addent: \\n\", addent)\n",
    "z = x + addent\n",
    "print (\"z:\\n\", z)"
   ]
  },
  {
   "cell_type": "code",
   "execution_count": null,
   "metadata": {
    "colab": {
     "base_uri": "https://localhost:8080/",
     "height": 68
    },
    "colab_type": "code",
    "id": "1NsoFVo0mfQ4",
    "outputId": "3b2a830e-abcf-4e5d-e824-2b9ce142f166"
   },
   "outputs": [],
   "source": [
    "x = np.array([[1,2], [3,4]])\n",
    "y = np.array([5, 6])\n",
    "z = x + y\n",
    "z"
   ]
  },
  {
   "cell_type": "markdown",
   "metadata": {},
   "source": [
    "### Dando forma y dimensión (shaping)"
   ]
  },
  {
   "cell_type": "code",
   "execution_count": null,
   "metadata": {
    "colab": {
     "base_uri": "https://localhost:8080/",
     "height": 153
    },
    "colab_type": "code",
    "id": "RdEHrnMTnO6k",
    "outputId": "881c6cf7-bfc7-4c41-ad70-68cd01b20656"
   },
   "outputs": [],
   "source": [
    "x = np.array([[1,2], [3,4], [5,6]])\n",
    "print (x)\n",
    "print (\"x.shape: \", x.shape)\n",
    "y = np.reshape(x, (2, 3))\n",
    "print (\"y.shape: \", y.shape)\n",
    "print (\"y: \\n\", y)"
   ]
  },
  {
   "cell_type": "code",
   "execution_count": null,
   "metadata": {
    "colab": {
     "base_uri": "https://localhost:8080/",
     "height": 102
    },
    "colab_type": "code",
    "id": "tE1BmoJuns70",
    "outputId": "719b9e01-4428-4013-b413-d755d46a2e58"
   },
   "outputs": [],
   "source": [
    "x = np.array([[[1,2,1]],[[2,2,3]]])\n",
    "print (\"x.shape: \", x.shape)\n",
    "y = np.squeeze(x, 1)\n",
    "print (\"y.shape: \", y.shape) \n",
    "print (\"y: \\n\", y)"
   ]
  },
  {
   "cell_type": "code",
   "execution_count": null,
   "metadata": {
    "colab": {
     "base_uri": "https://localhost:8080/",
     "height": 119
    },
    "colab_type": "code",
    "id": "LNYJRMF4qvXN",
    "outputId": "be32eb32-2222-4178-fb52-4fc86d5f8df1"
   },
   "outputs": [],
   "source": [
    "x = np.array([[1,2,1],[2,2,3]])\n",
    "print (\"x.shape: \", x.shape)\n",
    "y = np.expand_dims(x, 1) \n",
    "print (\"y.shape: \", y.shape) \n",
    "print (\"y: \\n\", y)"
   ]
  }
 ],
 "metadata": {
  "colab": {
   "collapsed_sections": [],
   "name": "02_NumPy",
   "provenance": [],
   "toc_visible": true,
   "version": "0.3.2"
  },
  "kernelspec": {
   "display_name": "Python 3",
   "language": "python",
   "name": "python3"
  },
  "language_info": {
   "codemirror_mode": {
    "name": "ipython",
    "version": 3
   },
   "file_extension": ".py",
   "mimetype": "text/x-python",
   "name": "python",
   "nbconvert_exporter": "python",
   "pygments_lexer": "ipython3",
   "version": "3.6.8"
  }
 },
 "nbformat": 4,
 "nbformat_minor": 1
}
