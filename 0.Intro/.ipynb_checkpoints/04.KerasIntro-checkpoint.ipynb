{
 "cells": [
  {
   "cell_type": "code",
   "execution_count": null,
   "metadata": {},
   "outputs": [],
   "source": [
    "# Cosas de OSX...\n",
    "import os\n",
    "os.environ['KMP_DUPLICATE_LIB_OK']='True'"
   ]
  },
  {
   "cell_type": "markdown",
   "metadata": {},
   "source": [
    "### Estructura PIMA Indiands Diabetes dataset\n",
    "   1. Number of times pregnant\n",
    "   2. Plasma glucose concentration a 2 hours in an oral glucose tolerance test\n",
    "   3. Diastolic blood pressure (mm Hg)\n",
    "   4. Triceps skin fold thickness (mm)\n",
    "   5. 2-Hour serum insulin (mu U/ml)\n",
    "   6. Body mass index (weight in kg/(height in m)^2)\n",
    "   7. Diabetes pedigree function\n",
    "   8. Age (years)\n",
    "   9. Class variable (0 or 1)"
   ]
  },
  {
   "cell_type": "code",
   "execution_count": 1,
   "metadata": {},
   "outputs": [
    {
     "name": "stderr",
     "output_type": "stream",
     "text": [
      "Using TensorFlow backend.\n"
     ]
    }
   ],
   "source": [
    "import matplotlib.pyplot as plt\n",
    "\n",
    "from keras.models import Sequential\n",
    "from keras.layers import Dense\n",
    "import numpy\n",
    "\n",
    "numpy.random.seed(7)"
   ]
  },
  {
   "cell_type": "code",
   "execution_count": 2,
   "metadata": {},
   "outputs": [],
   "source": [
    "dataset = numpy.loadtxt(\"pima-indians-diabetes.csv\", delimiter=\",\")"
   ]
  },
  {
   "cell_type": "code",
   "execution_count": 3,
   "metadata": {},
   "outputs": [],
   "source": [
    "X = dataset[:,0:8]\n",
    "Y = dataset[:,8]"
   ]
  },
  {
   "cell_type": "code",
   "execution_count": 4,
   "metadata": {},
   "outputs": [],
   "source": [
    "model = Sequential()\n",
    "model.add(Dense(12, input_dim=8, activation='relu'))\n",
    "model.add(Dense(8, activation='relu'))\n",
    "model.add(Dense(1, activation='sigmoid'))"
   ]
  },
  {
   "cell_type": "code",
   "execution_count": 5,
   "metadata": {},
   "outputs": [],
   "source": [
    "model.compile(loss='binary_crossentropy', optimizer='adam', metrics=['accuracy'])"
   ]
  },
  {
   "cell_type": "code",
   "execution_count": 6,
   "metadata": {},
   "outputs": [
    {
     "name": "stdout",
     "output_type": "stream",
     "text": [
      "Train on 614 samples, validate on 154 samples\n",
      "Epoch 1/150\n",
      "614/614 [==============================] - 1s 2ms/step - loss: 3.8961 - acc: 0.6433 - val_loss: 1.9778 - val_acc: 0.5844\n",
      "Epoch 2/150\n",
      "614/614 [==============================] - 0s 236us/step - loss: 1.1655 - acc: 0.5391 - val_loss: 0.7957 - val_acc: 0.6558\n",
      "Epoch 3/150\n",
      "614/614 [==============================] - 0s 263us/step - loss: 0.7795 - acc: 0.6433 - val_loss: 0.8523 - val_acc: 0.6429\n",
      "Epoch 4/150\n",
      "614/614 [==============================] - 0s 259us/step - loss: 0.7282 - acc: 0.6629 - val_loss: 0.7112 - val_acc: 0.7013\n",
      "Epoch 5/150\n",
      "614/614 [==============================] - 0s 256us/step - loss: 0.7240 - acc: 0.6547 - val_loss: 0.7183 - val_acc: 0.6039\n",
      "Epoch 6/150\n",
      "614/614 [==============================] - 0s 321us/step - loss: 0.6852 - acc: 0.6645 - val_loss: 0.7602 - val_acc: 0.6364\n",
      "Epoch 7/150\n",
      "614/614 [==============================] - 0s 335us/step - loss: 0.6674 - acc: 0.6759 - val_loss: 0.6670 - val_acc: 0.6883\n",
      "Epoch 8/150\n",
      "614/614 [==============================] - 0s 629us/step - loss: 0.6471 - acc: 0.6759 - val_loss: 0.6632 - val_acc: 0.6558\n",
      "Epoch 9/150\n",
      "614/614 [==============================] - 0s 315us/step - loss: 0.6460 - acc: 0.6840 - val_loss: 0.6581 - val_acc: 0.6494\n",
      "Epoch 10/150\n",
      "614/614 [==============================] - 0s 312us/step - loss: 0.6243 - acc: 0.6889 - val_loss: 0.6466 - val_acc: 0.6753\n",
      "Epoch 11/150\n",
      "614/614 [==============================] - 0s 391us/step - loss: 0.6133 - acc: 0.7068 - val_loss: 0.6579 - val_acc: 0.6623\n",
      "Epoch 12/150\n",
      "614/614 [==============================] - 0s 334us/step - loss: 0.6076 - acc: 0.7085 - val_loss: 0.6494 - val_acc: 0.6429\n",
      "Epoch 13/150\n",
      "614/614 [==============================] - 0s 302us/step - loss: 0.6056 - acc: 0.6954 - val_loss: 0.6526 - val_acc: 0.6429\n",
      "Epoch 14/150\n",
      "614/614 [==============================] - 0s 344us/step - loss: 0.6260 - acc: 0.6808 - val_loss: 0.6968 - val_acc: 0.5844\n",
      "Epoch 15/150\n",
      "614/614 [==============================] - 0s 308us/step - loss: 0.6146 - acc: 0.6906 - val_loss: 0.6458 - val_acc: 0.6818\n",
      "Epoch 16/150\n",
      "614/614 [==============================] - 0s 407us/step - loss: 0.5973 - acc: 0.6889 - val_loss: 0.6452 - val_acc: 0.6494\n",
      "Epoch 17/150\n",
      "614/614 [==============================] - 0s 429us/step - loss: 0.6078 - acc: 0.6971 - val_loss: 0.6266 - val_acc: 0.6948\n",
      "Epoch 18/150\n",
      "614/614 [==============================] - 0s 372us/step - loss: 0.5933 - acc: 0.6922 - val_loss: 0.6240 - val_acc: 0.6883\n",
      "Epoch 19/150\n",
      "614/614 [==============================] - 0s 342us/step - loss: 0.5876 - acc: 0.7150 - val_loss: 0.6518 - val_acc: 0.6558\n",
      "Epoch 20/150\n",
      "614/614 [==============================] - 0s 307us/step - loss: 0.5907 - acc: 0.6954 - val_loss: 0.6594 - val_acc: 0.6688\n",
      "Epoch 21/150\n",
      "614/614 [==============================] - 0s 393us/step - loss: 0.5734 - acc: 0.7101 - val_loss: 0.7149 - val_acc: 0.6558\n",
      "Epoch 22/150\n",
      "614/614 [==============================] - 0s 345us/step - loss: 0.5752 - acc: 0.7134 - val_loss: 0.6928 - val_acc: 0.5974\n",
      "Epoch 23/150\n",
      "614/614 [==============================] - 0s 373us/step - loss: 0.5746 - acc: 0.7199 - val_loss: 0.6380 - val_acc: 0.6818\n",
      "Epoch 24/150\n",
      "614/614 [==============================] - 0s 367us/step - loss: 0.5839 - acc: 0.6987 - val_loss: 0.6421 - val_acc: 0.6364\n",
      "Epoch 25/150\n",
      "614/614 [==============================] - 0s 380us/step - loss: 0.5785 - acc: 0.7231 - val_loss: 0.6695 - val_acc: 0.5974\n",
      "Epoch 26/150\n",
      "614/614 [==============================] - 0s 373us/step - loss: 0.5968 - acc: 0.7003 - val_loss: 0.6167 - val_acc: 0.6623\n",
      "Epoch 27/150\n",
      "614/614 [==============================] - 0s 512us/step - loss: 0.5938 - acc: 0.7085 - val_loss: 0.6340 - val_acc: 0.6883\n",
      "Epoch 28/150\n",
      "614/614 [==============================] - 0s 337us/step - loss: 0.5703 - acc: 0.7199 - val_loss: 0.6416 - val_acc: 0.6429\n",
      "Epoch 29/150\n",
      "614/614 [==============================] - 0s 275us/step - loss: 0.5744 - acc: 0.7134 - val_loss: 0.6090 - val_acc: 0.6948\n",
      "Epoch 30/150\n",
      "614/614 [==============================] - 0s 261us/step - loss: 0.5520 - acc: 0.7443 - val_loss: 0.6991 - val_acc: 0.6429\n",
      "Epoch 31/150\n",
      "614/614 [==============================] - 0s 263us/step - loss: 0.5621 - acc: 0.7215 - val_loss: 0.6109 - val_acc: 0.6623\n",
      "Epoch 32/150\n",
      "614/614 [==============================] - 0s 422us/step - loss: 0.5557 - acc: 0.7231 - val_loss: 0.6022 - val_acc: 0.6948\n",
      "Epoch 33/150\n",
      "614/614 [==============================] - 1s 1ms/step - loss: 0.5629 - acc: 0.7134 - val_loss: 0.6088 - val_acc: 0.6883\n",
      "Epoch 34/150\n",
      "614/614 [==============================] - 1s 1ms/step - loss: 0.5491 - acc: 0.7166 - val_loss: 0.6604 - val_acc: 0.6558\n",
      "Epoch 35/150\n",
      "614/614 [==============================] - 0s 380us/step - loss: 0.5550 - acc: 0.7248 - val_loss: 0.6569 - val_acc: 0.6883\n",
      "Epoch 36/150\n",
      "614/614 [==============================] - 0s 641us/step - loss: 0.5746 - acc: 0.7020 - val_loss: 0.6025 - val_acc: 0.7013\n",
      "Epoch 37/150\n",
      "614/614 [==============================] - 0s 312us/step - loss: 0.5463 - acc: 0.7313 - val_loss: 0.5827 - val_acc: 0.7078\n",
      "Epoch 38/150\n",
      "614/614 [==============================] - 0s 357us/step - loss: 0.5472 - acc: 0.7345 - val_loss: 0.6304 - val_acc: 0.6688\n",
      "Epoch 39/150\n",
      "614/614 [==============================] - 0s 265us/step - loss: 0.5539 - acc: 0.7280 - val_loss: 0.5935 - val_acc: 0.7078\n",
      "Epoch 40/150\n",
      "614/614 [==============================] - 0s 344us/step - loss: 0.5431 - acc: 0.7199 - val_loss: 0.6089 - val_acc: 0.6818\n",
      "Epoch 41/150\n",
      "614/614 [==============================] - 0s 235us/step - loss: 0.5414 - acc: 0.7427 - val_loss: 0.5961 - val_acc: 0.7013\n",
      "Epoch 42/150\n",
      "614/614 [==============================] - 0s 234us/step - loss: 0.5374 - acc: 0.7345 - val_loss: 0.5985 - val_acc: 0.7078\n",
      "Epoch 43/150\n",
      "614/614 [==============================] - 0s 254us/step - loss: 0.5432 - acc: 0.7231 - val_loss: 0.5875 - val_acc: 0.7078\n",
      "Epoch 44/150\n",
      "614/614 [==============================] - 0s 274us/step - loss: 0.5412 - acc: 0.7264 - val_loss: 0.5935 - val_acc: 0.6818\n",
      "Epoch 45/150\n",
      "614/614 [==============================] - 0s 269us/step - loss: 0.5494 - acc: 0.7410 - val_loss: 0.5983 - val_acc: 0.7208\n",
      "Epoch 46/150\n",
      "614/614 [==============================] - 0s 336us/step - loss: 0.5591 - acc: 0.7117 - val_loss: 0.5825 - val_acc: 0.7143\n",
      "Epoch 47/150\n",
      "614/614 [==============================] - 0s 711us/step - loss: 0.5498 - acc: 0.7231 - val_loss: 0.6782 - val_acc: 0.6039\n",
      "Epoch 48/150\n",
      "614/614 [==============================] - 0s 573us/step - loss: 0.5392 - acc: 0.7410 - val_loss: 0.5801 - val_acc: 0.7208\n",
      "Epoch 49/150\n",
      "614/614 [==============================] - 1s 833us/step - loss: 0.5298 - acc: 0.7296 - val_loss: 0.5925 - val_acc: 0.7338\n",
      "Epoch 50/150\n",
      "614/614 [==============================] - 0s 690us/step - loss: 0.5474 - acc: 0.7345 - val_loss: 0.5996 - val_acc: 0.7143\n",
      "Epoch 51/150\n",
      "614/614 [==============================] - 0s 332us/step - loss: 0.5281 - acc: 0.7329 - val_loss: 0.6598 - val_acc: 0.6948\n",
      "Epoch 52/150\n",
      "614/614 [==============================] - 0s 352us/step - loss: 0.5252 - acc: 0.7476 - val_loss: 0.6050 - val_acc: 0.7078\n",
      "Epoch 53/150\n",
      "614/614 [==============================] - 0s 296us/step - loss: 0.5342 - acc: 0.7362 - val_loss: 0.5747 - val_acc: 0.7273\n",
      "Epoch 54/150\n",
      "614/614 [==============================] - 0s 381us/step - loss: 0.5232 - acc: 0.7443 - val_loss: 0.5889 - val_acc: 0.7078\n",
      "Epoch 55/150\n",
      "614/614 [==============================] - 0s 436us/step - loss: 0.5255 - acc: 0.7394 - val_loss: 0.5749 - val_acc: 0.7208\n",
      "Epoch 56/150\n",
      "614/614 [==============================] - 0s 336us/step - loss: 0.5277 - acc: 0.7329 - val_loss: 0.5849 - val_acc: 0.7078\n",
      "Epoch 57/150\n",
      "614/614 [==============================] - 0s 280us/step - loss: 0.5445 - acc: 0.7150 - val_loss: 0.5964 - val_acc: 0.6883\n",
      "Epoch 58/150\n",
      "614/614 [==============================] - 0s 364us/step - loss: 0.5360 - acc: 0.7199 - val_loss: 0.5573 - val_acc: 0.7662\n",
      "Epoch 59/150\n",
      "614/614 [==============================] - 0s 305us/step - loss: 0.5244 - acc: 0.7329 - val_loss: 0.5778 - val_acc: 0.7143\n",
      "Epoch 60/150\n",
      "614/614 [==============================] - 0s 260us/step - loss: 0.5187 - acc: 0.7345 - val_loss: 0.5513 - val_acc: 0.7792\n",
      "Epoch 61/150\n"
     ]
    },
    {
     "name": "stdout",
     "output_type": "stream",
     "text": [
      "614/614 [==============================] - 0s 242us/step - loss: 0.5162 - acc: 0.7557 - val_loss: 0.5577 - val_acc: 0.7338\n",
      "Epoch 62/150\n",
      "614/614 [==============================] - 0s 257us/step - loss: 0.5069 - acc: 0.7459 - val_loss: 0.5569 - val_acc: 0.7143\n",
      "Epoch 63/150\n",
      "614/614 [==============================] - 0s 232us/step - loss: 0.5033 - acc: 0.7524 - val_loss: 0.5705 - val_acc: 0.7078\n",
      "Epoch 64/150\n",
      "614/614 [==============================] - 0s 289us/step - loss: 0.5278 - acc: 0.7459 - val_loss: 0.5736 - val_acc: 0.7078\n",
      "Epoch 65/150\n",
      "614/614 [==============================] - 0s 253us/step - loss: 0.5004 - acc: 0.7508 - val_loss: 0.5624 - val_acc: 0.7468\n",
      "Epoch 66/150\n",
      "614/614 [==============================] - 0s 230us/step - loss: 0.5195 - acc: 0.7427 - val_loss: 0.6059 - val_acc: 0.7143\n",
      "Epoch 67/150\n",
      "614/614 [==============================] - 0s 232us/step - loss: 0.5094 - acc: 0.7313 - val_loss: 0.5629 - val_acc: 0.7273\n",
      "Epoch 68/150\n",
      "614/614 [==============================] - 0s 244us/step - loss: 0.5315 - acc: 0.7199 - val_loss: 0.6245 - val_acc: 0.6753\n",
      "Epoch 69/150\n",
      "614/614 [==============================] - 0s 279us/step - loss: 0.5174 - acc: 0.7378 - val_loss: 0.5429 - val_acc: 0.7468\n",
      "Epoch 70/150\n",
      "614/614 [==============================] - 0s 239us/step - loss: 0.5145 - acc: 0.7410 - val_loss: 0.5587 - val_acc: 0.7338\n",
      "Epoch 71/150\n",
      "614/614 [==============================] - 0s 216us/step - loss: 0.5170 - acc: 0.7524 - val_loss: 0.5648 - val_acc: 0.7208\n",
      "Epoch 72/150\n",
      "614/614 [==============================] - 0s 243us/step - loss: 0.5169 - acc: 0.7524 - val_loss: 0.5986 - val_acc: 0.7078\n",
      "Epoch 73/150\n",
      "614/614 [==============================] - 0s 217us/step - loss: 0.5236 - acc: 0.7427 - val_loss: 0.5519 - val_acc: 0.7403\n",
      "Epoch 74/150\n",
      "614/614 [==============================] - 0s 275us/step - loss: 0.4986 - acc: 0.7296 - val_loss: 0.5652 - val_acc: 0.7403\n",
      "Epoch 75/150\n",
      "614/614 [==============================] - 0s 268us/step - loss: 0.5103 - acc: 0.7492 - val_loss: 0.5539 - val_acc: 0.7338\n",
      "Epoch 76/150\n",
      "614/614 [==============================] - 0s 212us/step - loss: 0.5092 - acc: 0.7459 - val_loss: 0.5510 - val_acc: 0.7338\n",
      "Epoch 77/150\n",
      "614/614 [==============================] - 0s 281us/step - loss: 0.5014 - acc: 0.7476 - val_loss: 0.5555 - val_acc: 0.7273\n",
      "Epoch 78/150\n",
      "614/614 [==============================] - 0s 242us/step - loss: 0.5003 - acc: 0.7524 - val_loss: 0.5350 - val_acc: 0.7532\n",
      "Epoch 79/150\n",
      "614/614 [==============================] - 0s 214us/step - loss: 0.5181 - acc: 0.7427 - val_loss: 0.5475 - val_acc: 0.7338\n",
      "Epoch 80/150\n",
      "614/614 [==============================] - 0s 249us/step - loss: 0.5051 - acc: 0.7508 - val_loss: 0.5912 - val_acc: 0.7078\n",
      "Epoch 81/150\n",
      "614/614 [==============================] - 0s 230us/step - loss: 0.5115 - acc: 0.7362 - val_loss: 0.5674 - val_acc: 0.7273\n",
      "Epoch 82/150\n",
      "614/614 [==============================] - 0s 221us/step - loss: 0.5053 - acc: 0.7524 - val_loss: 0.6336 - val_acc: 0.6623\n",
      "Epoch 83/150\n",
      "614/614 [==============================] - 0s 238us/step - loss: 0.5034 - acc: 0.7443 - val_loss: 0.5596 - val_acc: 0.7273\n",
      "Epoch 84/150\n",
      "614/614 [==============================] - 0s 276us/step - loss: 0.4978 - acc: 0.7394 - val_loss: 0.5534 - val_acc: 0.7338\n",
      "Epoch 85/150\n",
      "614/614 [==============================] - 0s 243us/step - loss: 0.5149 - acc: 0.7362 - val_loss: 0.6052 - val_acc: 0.6623\n",
      "Epoch 86/150\n",
      "614/614 [==============================] - 0s 210us/step - loss: 0.4989 - acc: 0.7671 - val_loss: 0.5564 - val_acc: 0.7532\n",
      "Epoch 87/150\n",
      "614/614 [==============================] - 0s 228us/step - loss: 0.4937 - acc: 0.7557 - val_loss: 0.5713 - val_acc: 0.7013\n",
      "Epoch 88/150\n",
      "614/614 [==============================] - 0s 255us/step - loss: 0.5026 - acc: 0.7541 - val_loss: 0.5465 - val_acc: 0.7403\n",
      "Epoch 89/150\n",
      "614/614 [==============================] - 0s 235us/step - loss: 0.5016 - acc: 0.7459 - val_loss: 0.5908 - val_acc: 0.6883\n",
      "Epoch 90/150\n",
      "614/614 [==============================] - 0s 218us/step - loss: 0.5085 - acc: 0.7557 - val_loss: 0.5373 - val_acc: 0.7468\n",
      "Epoch 91/150\n",
      "614/614 [==============================] - 0s 243us/step - loss: 0.4945 - acc: 0.7671 - val_loss: 0.5442 - val_acc: 0.7468\n",
      "Epoch 92/150\n",
      "614/614 [==============================] - 0s 210us/step - loss: 0.4945 - acc: 0.7427 - val_loss: 0.5350 - val_acc: 0.7403\n",
      "Epoch 93/150\n",
      "614/614 [==============================] - 0s 233us/step - loss: 0.4986 - acc: 0.7459 - val_loss: 0.5601 - val_acc: 0.7078\n",
      "Epoch 94/150\n",
      "614/614 [==============================] - 0s 234us/step - loss: 0.5054 - acc: 0.7736 - val_loss: 0.5869 - val_acc: 0.7208\n",
      "Epoch 95/150\n",
      "614/614 [==============================] - 0s 249us/step - loss: 0.5220 - acc: 0.7492 - val_loss: 0.6152 - val_acc: 0.6883\n",
      "Epoch 96/150\n",
      "614/614 [==============================] - 0s 215us/step - loss: 0.4985 - acc: 0.7378 - val_loss: 0.6081 - val_acc: 0.6818\n",
      "Epoch 97/150\n",
      "614/614 [==============================] - 0s 228us/step - loss: 0.5083 - acc: 0.7362 - val_loss: 0.5329 - val_acc: 0.7403\n",
      "Epoch 98/150\n",
      "614/614 [==============================] - 0s 237us/step - loss: 0.4960 - acc: 0.7524 - val_loss: 0.6190 - val_acc: 0.6948\n",
      "Epoch 99/150\n",
      "614/614 [==============================] - 0s 224us/step - loss: 0.5086 - acc: 0.7443 - val_loss: 0.5974 - val_acc: 0.6818\n",
      "Epoch 100/150\n",
      "614/614 [==============================] - 0s 284us/step - loss: 0.5069 - acc: 0.7524 - val_loss: 0.5534 - val_acc: 0.7662\n",
      "Epoch 101/150\n",
      "614/614 [==============================] - 0s 242us/step - loss: 0.5154 - acc: 0.7459 - val_loss: 0.5636 - val_acc: 0.7078\n",
      "Epoch 102/150\n",
      "614/614 [==============================] - 0s 230us/step - loss: 0.4970 - acc: 0.7671 - val_loss: 0.5583 - val_acc: 0.7208\n",
      "Epoch 103/150\n",
      "614/614 [==============================] - 0s 230us/step - loss: 0.4819 - acc: 0.7590 - val_loss: 0.5299 - val_acc: 0.7403\n",
      "Epoch 104/150\n",
      "614/614 [==============================] - 0s 215us/step - loss: 0.4883 - acc: 0.7720 - val_loss: 0.5562 - val_acc: 0.7468\n",
      "Epoch 105/150\n",
      "614/614 [==============================] - 0s 240us/step - loss: 0.4907 - acc: 0.7557 - val_loss: 0.5409 - val_acc: 0.7273\n",
      "Epoch 106/150\n",
      "614/614 [==============================] - 0s 205us/step - loss: 0.4853 - acc: 0.7687 - val_loss: 0.5366 - val_acc: 0.7857\n",
      "Epoch 107/150\n",
      "614/614 [==============================] - 0s 233us/step - loss: 0.4906 - acc: 0.7557 - val_loss: 0.5604 - val_acc: 0.7078\n",
      "Epoch 108/150\n",
      "614/614 [==============================] - 0s 227us/step - loss: 0.4857 - acc: 0.7671 - val_loss: 0.5305 - val_acc: 0.7273\n",
      "Epoch 109/150\n",
      "614/614 [==============================] - 0s 276us/step - loss: 0.4854 - acc: 0.7671 - val_loss: 0.5272 - val_acc: 0.7727\n",
      "Epoch 110/150\n",
      "614/614 [==============================] - 0s 225us/step - loss: 0.5088 - acc: 0.7492 - val_loss: 0.5266 - val_acc: 0.7792\n",
      "Epoch 111/150\n",
      "614/614 [==============================] - 0s 241us/step - loss: 0.4945 - acc: 0.7557 - val_loss: 0.5624 - val_acc: 0.7662\n",
      "Epoch 112/150\n",
      "614/614 [==============================] - 0s 234us/step - loss: 0.5093 - acc: 0.7427 - val_loss: 0.5353 - val_acc: 0.7403\n",
      "Epoch 113/150\n",
      "614/614 [==============================] - 0s 250us/step - loss: 0.4828 - acc: 0.7769 - val_loss: 0.5564 - val_acc: 0.7597\n",
      "Epoch 114/150\n",
      "614/614 [==============================] - 0s 217us/step - loss: 0.5152 - acc: 0.7590 - val_loss: 0.5854 - val_acc: 0.7597\n",
      "Epoch 115/150\n",
      "614/614 [==============================] - 0s 248us/step - loss: 0.4952 - acc: 0.7622 - val_loss: 0.5342 - val_acc: 0.7727\n",
      "Epoch 116/150\n",
      "614/614 [==============================] - 0s 223us/step - loss: 0.4908 - acc: 0.7720 - val_loss: 0.5449 - val_acc: 0.7338\n",
      "Epoch 117/150\n",
      "614/614 [==============================] - 0s 215us/step - loss: 0.4821 - acc: 0.7687 - val_loss: 0.6243 - val_acc: 0.6948\n",
      "Epoch 118/150\n",
      "614/614 [==============================] - 0s 241us/step - loss: 0.4837 - acc: 0.7687 - val_loss: 0.5408 - val_acc: 0.7208\n",
      "Epoch 119/150\n",
      "614/614 [==============================] - 0s 228us/step - loss: 0.4826 - acc: 0.7785 - val_loss: 0.5530 - val_acc: 0.7013\n",
      "Epoch 120/150\n",
      "614/614 [==============================] - 0s 263us/step - loss: 0.4750 - acc: 0.7752 - val_loss: 0.5431 - val_acc: 0.7273\n",
      "Epoch 121/150\n"
     ]
    },
    {
     "name": "stdout",
     "output_type": "stream",
     "text": [
      "614/614 [==============================] - 0s 212us/step - loss: 0.4780 - acc: 0.7785 - val_loss: 0.5388 - val_acc: 0.7338\n",
      "Epoch 122/150\n",
      "614/614 [==============================] - 0s 235us/step - loss: 0.4762 - acc: 0.7752 - val_loss: 0.6076 - val_acc: 0.6883\n",
      "Epoch 123/150\n",
      "614/614 [==============================] - 0s 214us/step - loss: 0.4754 - acc: 0.7769 - val_loss: 0.5407 - val_acc: 0.7662\n",
      "Epoch 124/150\n",
      "614/614 [==============================] - 0s 227us/step - loss: 0.4782 - acc: 0.7752 - val_loss: 0.5376 - val_acc: 0.7338\n",
      "Epoch 125/150\n",
      "614/614 [==============================] - 0s 221us/step - loss: 0.4749 - acc: 0.7801 - val_loss: 0.5477 - val_acc: 0.7727\n",
      "Epoch 126/150\n",
      "614/614 [==============================] - 0s 214us/step - loss: 0.4830 - acc: 0.7606 - val_loss: 0.5492 - val_acc: 0.7403\n",
      "Epoch 127/150\n",
      "614/614 [==============================] - 0s 223us/step - loss: 0.4756 - acc: 0.7818 - val_loss: 0.5349 - val_acc: 0.7403\n",
      "Epoch 128/150\n",
      "614/614 [==============================] - 0s 258us/step - loss: 0.4764 - acc: 0.7720 - val_loss: 0.5370 - val_acc: 0.7143\n",
      "Epoch 129/150\n",
      "614/614 [==============================] - 0s 235us/step - loss: 0.4904 - acc: 0.7704 - val_loss: 0.5271 - val_acc: 0.7597\n",
      "Epoch 130/150\n",
      "614/614 [==============================] - 0s 226us/step - loss: 0.4880 - acc: 0.7638 - val_loss: 0.5808 - val_acc: 0.7078\n",
      "Epoch 131/150\n",
      "614/614 [==============================] - 0s 259us/step - loss: 0.4707 - acc: 0.7997 - val_loss: 0.5560 - val_acc: 0.7597\n",
      "Epoch 132/150\n",
      "614/614 [==============================] - 0s 205us/step - loss: 0.4849 - acc: 0.7687 - val_loss: 0.5486 - val_acc: 0.7273\n",
      "Epoch 133/150\n",
      "614/614 [==============================] - 0s 300us/step - loss: 0.4814 - acc: 0.7671 - val_loss: 0.5891 - val_acc: 0.7078\n",
      "Epoch 134/150\n",
      "614/614 [==============================] - 0s 291us/step - loss: 0.4865 - acc: 0.7687 - val_loss: 0.5382 - val_acc: 0.7468\n",
      "Epoch 135/150\n",
      "614/614 [==============================] - 0s 328us/step - loss: 0.4964 - acc: 0.7622 - val_loss: 0.5983 - val_acc: 0.7403\n",
      "Epoch 136/150\n",
      "614/614 [==============================] - 0s 293us/step - loss: 0.4817 - acc: 0.7590 - val_loss: 0.5152 - val_acc: 0.7403\n",
      "Epoch 137/150\n",
      "614/614 [==============================] - 0s 356us/step - loss: 0.4736 - acc: 0.7752 - val_loss: 0.5238 - val_acc: 0.7727\n",
      "Epoch 138/150\n",
      "614/614 [==============================] - 0s 279us/step - loss: 0.4710 - acc: 0.7785 - val_loss: 0.5283 - val_acc: 0.7338\n",
      "Epoch 139/150\n",
      "614/614 [==============================] - 0s 247us/step - loss: 0.4708 - acc: 0.7704 - val_loss: 0.5492 - val_acc: 0.7597\n",
      "Epoch 140/150\n",
      "614/614 [==============================] - 0s 214us/step - loss: 0.4782 - acc: 0.7557 - val_loss: 0.5462 - val_acc: 0.7857\n",
      "Epoch 141/150\n",
      "614/614 [==============================] - 0s 282us/step - loss: 0.4765 - acc: 0.7785 - val_loss: 0.5757 - val_acc: 0.7143\n",
      "Epoch 142/150\n",
      "614/614 [==============================] - 0s 293us/step - loss: 0.4747 - acc: 0.7769 - val_loss: 0.5629 - val_acc: 0.7338\n",
      "Epoch 143/150\n",
      "614/614 [==============================] - 0s 260us/step - loss: 0.4723 - acc: 0.7590 - val_loss: 0.5350 - val_acc: 0.7922\n",
      "Epoch 144/150\n",
      "614/614 [==============================] - 0s 220us/step - loss: 0.4826 - acc: 0.7638 - val_loss: 0.5218 - val_acc: 0.7468\n",
      "Epoch 145/150\n",
      "614/614 [==============================] - 0s 299us/step - loss: 0.4775 - acc: 0.7638 - val_loss: 0.5374 - val_acc: 0.7338\n",
      "Epoch 146/150\n",
      "614/614 [==============================] - 0s 219us/step - loss: 0.4611 - acc: 0.7980 - val_loss: 0.5891 - val_acc: 0.7143\n",
      "Epoch 147/150\n",
      "614/614 [==============================] - 0s 235us/step - loss: 0.4676 - acc: 0.7752 - val_loss: 0.5441 - val_acc: 0.7727\n",
      "Epoch 148/150\n",
      "614/614 [==============================] - 0s 270us/step - loss: 0.4710 - acc: 0.7704 - val_loss: 0.5125 - val_acc: 0.7403\n",
      "Epoch 149/150\n",
      "614/614 [==============================] - 0s 229us/step - loss: 0.4805 - acc: 0.7818 - val_loss: 0.5857 - val_acc: 0.7338\n",
      "Epoch 150/150\n",
      "614/614 [==============================] - 0s 237us/step - loss: 0.4663 - acc: 0.7736 - val_loss: 0.5358 - val_acc: 0.7468\n"
     ]
    }
   ],
   "source": [
    "history = model.fit(X, Y, epochs=150, batch_size=10, validation_split=0.2)"
   ]
  },
  {
   "cell_type": "code",
   "execution_count": 7,
   "metadata": {},
   "outputs": [
    {
     "name": "stdout",
     "output_type": "stream",
     "text": [
      "768/768 [==============================] - 0s 53us/step\n",
      "\n",
      "acc: 77.86%\n"
     ]
    }
   ],
   "source": [
    "scores = model.evaluate(X, Y)\n",
    "print(\"\\n%s: %.2f%%\" % (model.metrics_names[1], scores[1]*100))"
   ]
  },
  {
   "cell_type": "markdown",
   "metadata": {},
   "source": [
    "### Recursos para Keras\n",
    "\n",
    "https://keras.io/losses/\n",
    "https://keras.io/metrics/"
   ]
  },
  {
   "cell_type": "code",
   "execution_count": 8,
   "metadata": {},
   "outputs": [
    {
     "name": "stdout",
     "output_type": "stream",
     "text": [
      "_________________________________________________________________\n",
      "Layer (type)                 Output Shape              Param #   \n",
      "=================================================================\n",
      "dense_1 (Dense)              (None, 12)                108       \n",
      "_________________________________________________________________\n",
      "dense_2 (Dense)              (None, 8)                 104       \n",
      "_________________________________________________________________\n",
      "dense_3 (Dense)              (None, 1)                 9         \n",
      "=================================================================\n",
      "Total params: 221\n",
      "Trainable params: 221\n",
      "Non-trainable params: 0\n",
      "_________________________________________________________________\n"
     ]
    }
   ],
   "source": [
    "model.summary()"
   ]
  },
  {
   "cell_type": "code",
   "execution_count": 9,
   "metadata": {},
   "outputs": [
    {
     "data": {
      "text/plain": [
       "dict_keys(['val_loss', 'val_acc', 'loss', 'acc'])"
      ]
     },
     "execution_count": 9,
     "metadata": {},
     "output_type": "execute_result"
    }
   ],
   "source": [
    "history.history.keys()"
   ]
  },
  {
   "cell_type": "code",
   "execution_count": 10,
   "metadata": {},
   "outputs": [],
   "source": [
    "%matplotlib inline"
   ]
  },
  {
   "cell_type": "code",
   "execution_count": null,
   "metadata": {},
   "outputs": [],
   "source": [
    "plt.plot(history.history['acc'])\n",
    "plt.plot(history.history['val_acc'])\n",
    "plt.title('model accuracy')\n",
    "plt.ylabel('accuracy')\n",
    "plt.xlabel('epoch')\n",
    "plt.legend(['train','test'], loc='upper left')\n",
    "plt.show()\n",
    "\n",
    "plt.plot(history.history['loss'])\n",
    "plt.plot(history.history['val_loss'])\n",
    "plt.title('model loss')\n",
    "plt.ylabel('loss')\n",
    "plt.xlabel('epoch')\n",
    "plt.legend(['train','test'], loc='upper left')\n",
    "plt.show()"
   ]
  },
  {
   "cell_type": "markdown",
   "metadata": {},
   "source": [
    "# Extra"
   ]
  },
  {
   "cell_type": "code",
   "execution_count": null,
   "metadata": {},
   "outputs": [],
   "source": [
    "import pandas as pd"
   ]
  },
  {
   "cell_type": "code",
   "execution_count": null,
   "metadata": {},
   "outputs": [],
   "source": [
    "df = pd.read_csv(\"pima-indians-diabetes.csv\")"
   ]
  },
  {
   "cell_type": "code",
   "execution_count": null,
   "metadata": {},
   "outputs": [],
   "source": [
    "df.head()"
   ]
  }
 ],
 "metadata": {
  "kernelspec": {
   "display_name": "Python 3",
   "language": "python",
   "name": "python3"
  },
  "language_info": {
   "codemirror_mode": {
    "name": "ipython",
    "version": 3
   },
   "file_extension": ".py",
   "mimetype": "text/x-python",
   "name": "python",
   "nbconvert_exporter": "python",
   "pygments_lexer": "ipython3",
   "version": "3.6.8"
  }
 },
 "nbformat": 4,
 "nbformat_minor": 2
}
